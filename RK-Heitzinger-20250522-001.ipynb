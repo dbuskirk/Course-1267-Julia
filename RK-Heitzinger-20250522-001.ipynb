{
 "cells": [
  {
   "cell_type": "markdown",
   "id": "c3471317",
   "metadata": {},
   "source": [
    "Heitzinger book, page 248"
   ]
  },
  {
   "cell_type": "markdown",
   "id": "1d6b3ffc",
   "metadata": {},
   "source": [
    "## Dan's Notes: Runge-Kutta From Scratch\n",
    "### Supplemental Materials for Learning Tree Course 1267\n",
    "\n",
    "©2019-2025 Daniel R. Buskirk<br/>\n",
    "dan@ai1729.com<br/>"
   ]
  },
  {
   "cell_type": "markdown",
   "id": "e3fe933a",
   "metadata": {},
   "source": [
    "## Table of Contents\n",
    "1. [Introduction](#introduction)\n",
    "2. [The RK Macro](#therkmacro)\n"
   ]
  },
  {
   "cell_type": "markdown",
   "id": "e5917c8d",
   "metadata": {},
   "source": [
    "<a name=\"introduction\"></a>\n",
    "### Introduction\n",
    "The Rubge-Kutta code in this notebook was published by Clemens Heitzinger in his book <b>Algorithms with Julia</b> (Springer 2022). If your goal is to solve an ODE, then your best bet is using a well designed and thoroughly tested library such as DifferentialEquations or RungeKutta.<br/>\n",
    "The code in this notebokk is a starting point for study and experimentation."
   ]
  },
  {
   "cell_type": "markdown",
   "id": "b0a84e32",
   "metadata": {},
   "source": [
    "#### The Butcher Tableau"
   ]
  },
  {
   "cell_type": "markdown",
   "id": "23305150",
   "metadata": {},
   "source": [
    "Cells in this section are not required for the function of the algorithm. They serve only to print the Butcher tableau for RK4 in a manner similar to that seen in many textbooks and articles.<br/>\n",
    "Sadly, the print_tableau function as shown here has no generality and is not particularly useful. It is an ad hoc function to organize the display code juat for this notebook."
   ]
  },
  {
   "cell_type": "code",
   "execution_count": 3,
   "id": "0ab8f054",
   "metadata": {},
   "outputs": [],
   "source": [
    "# Define a Butcher tableau for RK4\n",
    "A = Rational{Int}[0 0 0 0;\n",
    "     1/2 0 0 0;\n",
    "     0 1/2 0 0;\n",
    "     0 0 1 0]\n",
    "\n",
    "b = Rational{Int}[1//6, 1//3, 1//3, 1//6] # Curiously, these literals must have double slashes\n",
    "c = Rational{Int}[0, 1/2, 1/2, 1];"
   ]
  },
  {
   "cell_type": "markdown",
   "id": "4e5c1839",
   "metadata": {},
   "source": [
    "By default, Julia will print a rational zero as 0//1. We can create an override to the show( ) method to make the display more satisfying. While the double-slash is required in code to signify Rational type, we can remove it from the print-out if we wish."
   ]
  },
  {
   "cell_type": "code",
   "execution_count": 1,
   "id": "0704a0c6",
   "metadata": {},
   "outputs": [],
   "source": [
    "Base.show(io::IO, x::Rational) = print(io, x == 0 ? \"0   \" : \"$(numerator(x))/$(denominator(x))\")"
   ]
  },
  {
   "cell_type": "code",
   "execution_count": 12,
   "id": "9acee9a0",
   "metadata": {},
   "outputs": [
    {
     "name": "stdout",
     "output_type": "stream",
     "text": [
      "  0   \t| 0   \t0   \t0   \t0   \n",
      "  1/2\t| 1/2\t0   \t0   \t0   \n",
      "  1/2\t| 0   \t1/2\t0   \t0   \n",
      "  1/1\t| 0   \t0   \t1/1\t0   \n",
      "────────┼───────────────────────────┤\n",
      "        │ 1/6\t1/3\t1/3\t1/6\n",
      "       \n"
     ]
    }
   ],
   "source": [
    "function print_tableau(A, b, c)\n",
    "    #println(\"┌───────┬───────────┐\")\n",
    "    for i in eachindex(c)\n",
    "        println(\"  $(c[i])\\t| \", join(A[i, :], \"\\t\"))\n",
    "    end\n",
    "    println(\"────────┼───────────────────────────┤\")\n",
    "    println(\"        │ \", join(b, \"\\t\"))\n",
    "    println(\"       \")\n",
    "end\n",
    "\n",
    "print_tableau(A, b, c)"
   ]
  },
  {
   "cell_type": "markdown",
   "id": "ffc2e403",
   "metadata": {},
   "source": [
    "#### Two Butcher tableaus in a form to be provided as input to the RK( ) function."
   ]
  },
  {
   "cell_type": "code",
   "execution_count": 1,
   "id": "319a5e0c",
   "metadata": {},
   "outputs": [
    {
     "data": {
      "text/plain": [
       "5×5 Matrix{Float64}:\n",
       "   0.0  NaN         NaN         NaN         NaN\n",
       "   0.5    0.5       NaN         NaN         NaN\n",
       "   0.5    0.0         0.5       NaN         NaN\n",
       "   1.0    0.0         0.0         1.0       NaN\n",
       " NaN      0.166667    0.333333    0.333333    0.166667"
      ]
     },
     "execution_count": 1,
     "metadata": {},
     "output_type": "execute_result"
    }
   ],
   "source": [
    "const RK1 = [0.0 NaN; NaN 1.0]\n",
    "\n",
    "const RK4 = [0    NaN   NaN   NaN   NaN;\n",
    "             1/2  1/2   NaN   NaN   NaN;\n",
    "             1/2  0     1/2   NaN   NaN;\n",
    "             1    0     0     1     NaN;\n",
    "             NaN  1/6   1/3   1/3   1/6]"
   ]
  },
  {
   "cell_type": "code",
   "execution_count": 2,
   "id": "90fe83e3",
   "metadata": {},
   "outputs": [
    {
     "data": {
      "text/plain": [
       "RK (generic function with 1 method)"
      ]
     },
     "execution_count": 2,
     "metadata": {},
     "output_type": "execute_result"
    }
   ],
   "source": [
    "function RK(T::Array{Float64, 2}, f::Function,\n",
    "            t_start::Float64, t_end::Float64,\n",
    "            y_start::Float64, h::Float64)::NamedTuple\n",
    "    @assert T[1,1] == 0\n",
    "    @assert h>0\n",
    "    \n",
    "    local A = T[1:end-1, 2:end-1]\n",
    "    local b = T[end, 2:end]\n",
    "    local c = T[1:end-1, 1]\n",
    "    local s = size(b,1)\n",
    "    local N = ceil(Int, (t_end - t_start)/h) + 1\n",
    "    \n",
    "    @assert c[1]  == 0\n",
    "    @assert all(isapprox(c[i], sum(A[i,j] for j in 1:i-1))\n",
    "                for i in 2:size(A,1))\n",
    "    \n",
    "    local k = fill(NaN, s)\n",
    "    local t = LinRange(t_start, t_start + (N-1)*h, N)\n",
    "    local y = fill(NaN, N)\n",
    "    y[1] = y_start\n",
    "    \n",
    "    for n in 1:N-1\n",
    "        k[1] = f(t[n], y[n])\n",
    "        for i in 2:s\n",
    "            k[i] = f(t[n] + h * c[i],\n",
    "                     y[n] + h * sum(A[i,j] * k[j] for j in 1:i-1))\n",
    "        end\n",
    "        y[n+1] =y[n] + h * sum(b[i] * k[i] for i in 1:s)\n",
    "    end\n",
    "    (t=t, y=y)\n",
    "end"
   ]
  },
  {
   "cell_type": "code",
   "execution_count": null,
   "id": "014973cd",
   "metadata": {},
   "outputs": [],
   "source": [
    "# sol = RK(RK1, (t,y)-> y, 0.0, 10.0, 1.0, 1e-6)"
   ]
  },
  {
   "cell_type": "markdown",
   "id": "cc07e482",
   "metadata": {},
   "source": [
    "<a name=\"therkmacro\"></a>\n",
    "### The RK Macro"
   ]
  },
  {
   "cell_type": "code",
   "execution_count": 3,
   "id": "3699fd68",
   "metadata": {},
   "outputs": [
    {
     "data": {
      "text/plain": [
       "@RK (macro with 1 method)"
      ]
     },
     "execution_count": 3,
     "metadata": {},
     "output_type": "execute_result"
    }
   ],
   "source": [
    "macro RK(T, f,  t_start::Float64, t_end::Float64,y_start::Float64, h::Float64)\n",
    "    \n",
    "    local TT=eval(T)\n",
    "    @assert isa(TT, Array{Float64, 2})\n",
    "    @assert TT[1,1] == 0\n",
    "    @assert h > 0\n",
    "    \n",
    "    local A = TT[1:end-1, 2:end-1]\n",
    "    local b = TT[end, 2:end]\n",
    "    local c = TT[1:end, 1]\n",
    "local s=size(b,1)\n",
    "local N = ceil(Int, (t_end - t_start)/h) + 1\n",
    "local k = [gensym(\"k\") for i in 1:s]\n",
    "\n",
    "@assert c[1] == 0\n",
    "@assert all(isapprox(c[i], sum(A[i,j] for j in 1:i-1))\n",
    "    for i in 2:size(A,1))\n",
    "    \n",
    "local y_update = :($(h+b[1]) * $(esc(k[1])))\n",
    "for i in 2:s\n",
    "    y_update = :($y_update  + $(h * b[i]) * $(esc(k[i])))\n",
    "end\n",
    "\n",
    "local ks = :(local $(esc(k[1])) = $f(t[n], y[n]))\n",
    "for i in 2:s\n",
    "        local sum = :($(h * A[i,1]) * $(esc(k[1])))\n",
    "        for j in 2:i-1\n",
    "            sum = :($sum + $(h * A[i,j]) * $(esc(k[j])))\n",
    "        end\n",
    "        ks = :($ks, local $(esc(k[i])) = $f(t[n] + $(h + c[i]), y[n] + $sum))\n",
    "end\n",
    "            \n",
    "quote\n",
    "                local t = LinRange($t_start, $(t_start + (N-1) * h), $N)\n",
    "                local y = fill(NaN, $N)\n",
    "                y[1] = $y_start\n",
    "                for n in 1:$(N-1)\n",
    "                    $ks\n",
    "                    y[n+1] = y[n] + $y_update\n",
    "                end\n",
    "                \n",
    "                ($(esc(:t)) = t, $(esc(:y)) = y)\n",
    "            end\n",
    "        end\n",
    "     "
   ]
  },
  {
   "cell_type": "code",
   "execution_count": null,
   "id": "1f7314a2",
   "metadata": {},
   "outputs": [],
   "source": [
    "# sol = @RK(RK1, (t,y)-> y, 0.0, 10.0, 1.0, 1e-6)"
   ]
  },
  {
   "cell_type": "code",
   "execution_count": 4,
   "id": "433d3619",
   "metadata": {},
   "outputs": [
    {
     "data": {
      "text/plain": [
       "test (generic function with 1 method)"
      ]
     },
     "execution_count": 4,
     "metadata": {},
     "output_type": "execute_result"
    }
   ],
   "source": [
    "function test()\n",
    "    sol1 = @time RK(RK1, (t,y)-> y, 0.0, 10.0, 1.0, 1e-6)\n",
    "    sol2 = @time @RK(RK1, (t,y)-> y, 0.0, 10.0, 1.0, 1e-6)\n",
    "    sol3 = @time RK(RK4, (t,y)-> y, 0.0, 10.0, 1.0, 1e-6)\n",
    "    sol4 = @time @RK(RK4, (t,y)-> y, 0.0, 10.0, 1.0, 1e-6)\n",
    "\n",
    "    @show sol1[:y][end]\n",
    "    @show sol1[:y][end]\n",
    "    @show sol1[:y][end]\n",
    "    @show sol1[:y][end]\n",
    "\n",
    "    nothing\n",
    "end"
   ]
  },
  {
   "cell_type": "code",
   "execution_count": 5,
   "id": "d3505091",
   "metadata": {
    "scrolled": true
   },
   "outputs": [
    {
     "name": "stdout",
     "output_type": "stream",
     "text": [
      "  0.082261 seconds (10 allocations: 76.294 MiB, 6.64% gc time)\n",
      "  0.043051 seconds (3 allocations: 76.294 MiB, 6.98% gc time)\n",
      "  0.201879 seconds (11 allocations: 76.295 MiB, 2.97% gc time)\n",
      "  0.109813 seconds (3 allocations: 76.294 MiB, 9.71% gc time)\n",
      "(sol1[:y])[end] = 22026.355662833706\n",
      "(sol1[:y])[end] = 22026.355662833706\n",
      "(sol1[:y])[end] = 22026.355662833706\n",
      "(sol1[:y])[end] = 22026.355662833706\n"
     ]
    }
   ],
   "source": [
    "test()"
   ]
  },
  {
   "cell_type": "code",
   "execution_count": 6,
   "id": "4a13efcf",
   "metadata": {},
   "outputs": [
    {
     "data": {
      "text/plain": [
       "quote\n",
       "    \u001b[90m#= In[3]:34 =#\u001b[39m\n",
       "    local var\"#92#t\" = Main.LinRange(0.0, 10.0, 10000001)\n",
       "    \u001b[90m#= In[3]:35 =#\u001b[39m\n",
       "    local var\"#93#y\" = Main.fill(Main.NaN, 10000001)\n",
       "    \u001b[90m#= In[3]:36 =#\u001b[39m\n",
       "    var\"#93#y\"[1] = 1.0\n",
       "    \u001b[90m#= In[3]:37 =#\u001b[39m\n",
       "    for var\"#94#n\" = 1:10000000\n",
       "        \u001b[90m#= In[3]:38 =#\u001b[39m\n",
       "        local var\"##k#235\" = (((var\"#92#t\", var\"#93#y\")->begin\n",
       "                        \u001b[90m#= In[6]:1 =#\u001b[39m\n",
       "                        var\"#93#y\"\n",
       "                    end))(var\"#92#t\"[var\"#94#n\"], var\"#93#y\"[var\"#94#n\"])\n",
       "        \u001b[90m#= In[3]:39 =#\u001b[39m\n",
       "        var\"#93#y\"[var\"#94#n\" + 1] = var\"#93#y\"[var\"#94#n\"] + 1.000001var\"##k#235\"\n",
       "        \u001b[90m#= In[3]:40 =#\u001b[39m\n",
       "    end\n",
       "    \u001b[90m#= In[3]:42 =#\u001b[39m\n",
       "    (t = var\"#92#t\", y = var\"#93#y\")\n",
       "end"
      ]
     },
     "execution_count": 6,
     "metadata": {},
     "output_type": "execute_result"
    }
   ],
   "source": [
    "@macroexpand( @RK(RK1, (t,y)-> y, 0.0, 10.0, 1.0, 1e-6))"
   ]
  },
  {
   "cell_type": "code",
   "execution_count": null,
   "id": "94de317e",
   "metadata": {},
   "outputs": [],
   "source": [
    "methods(->)"
   ]
  },
  {
   "cell_type": "code",
   "execution_count": 9,
   "id": "b6497b8f",
   "metadata": {},
   "outputs": [
    {
     "data": {
      "text/plain": [
       "\"C:\\\\Users\\\\dbuskirk\\\\Documents\\\\Julia\""
      ]
     },
     "execution_count": 9,
     "metadata": {},
     "output_type": "execute_result"
    }
   ],
   "source": [
    "pwd()"
   ]
  },
  {
   "cell_type": "code",
   "execution_count": 6,
   "id": "2f4cb5d0",
   "metadata": {},
   "outputs": [],
   "source": [
    "cd( \"C:\\\\Users\\\\dbuskirk\\\\Documents\\\\Julia\")"
   ]
  },
  {
   "cell_type": "code",
   "execution_count": 3,
   "id": "04400c55",
   "metadata": {},
   "outputs": [],
   "source": [
    "using Pkg"
   ]
  },
  {
   "cell_type": "code",
   "execution_count": 10,
   "id": "5517ab40",
   "metadata": {},
   "outputs": [
    {
     "name": "stderr",
     "output_type": "stream",
     "text": [
      "\u001b[32m\u001b[1m  Generating\u001b[22m\u001b[39m  project RungeKuttaExperiments:\n",
      "    RungeKuttaExperiments\\Project.toml\n",
      "    RungeKuttaExperiments\\src\\RungeKuttaExperiments.jl\n"
     ]
    },
    {
     "data": {
      "text/plain": [
       "Dict{String, Base.UUID} with 1 entry:\n",
       "  \"RungeKuttaExperiments\" => UUID(\"acca2eed-b57a-4e36-9679-5f2aa22adc84\")"
      ]
     },
     "execution_count": 10,
     "metadata": {},
     "output_type": "execute_result"
    }
   ],
   "source": [
    "Pkg.generate(\"RungeKuttaExperiments\")"
   ]
  },
  {
   "cell_type": "code",
   "execution_count": null,
   "id": "254208cb",
   "metadata": {},
   "outputs": [],
   "source": [
    "__precompile__()\n",
    "module RungeKuttaExperiments\n",
    "export greet\n",
    "\n",
    "greet(name::String) = \"Hello, \" * name\n",
    "\n",
    "end"
   ]
  },
  {
   "cell_type": "markdown",
   "id": "031d49be",
   "metadata": {},
   "source": [
    "This does not work. It seems that the Package Manager is always trying to find a GitHub repository.<br/>\n",
    "Pkg.add(path=\"\\\\\\\\ulam\\\\Knowledgebase\\\\Julia\\\\JuliaNotebooks\\\\DifferentialEquations\\\\RungeKutta\\\\RungaKuttaExperiments\")\n"
   ]
  }
 ],
 "metadata": {
  "@webio": {
   "lastCommId": null,
   "lastKernelId": null
  },
  "kernelspec": {
   "display_name": "Julia 1.11.5",
   "language": "julia",
   "name": "julia-1.11"
  },
  "language_info": {
   "file_extension": ".jl",
   "mimetype": "application/julia",
   "name": "julia",
   "version": "1.11.5"
  }
 },
 "nbformat": 4,
 "nbformat_minor": 5
}
